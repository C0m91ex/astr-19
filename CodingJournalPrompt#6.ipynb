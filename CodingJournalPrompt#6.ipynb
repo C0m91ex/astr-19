{
 "cells": [
  {
   "cell_type": "markdown",
   "id": "640953d5-2706-4d5f-9f87-cc6cea0ccfc0",
   "metadata": {},
   "source": [
    "Define Function for sin(x) and cos(x)"
   ]
  },
  {
   "cell_type": "code",
   "execution_count": 16,
   "id": "5a20ce28-ab7c-4d17-ad88-bb3ada1edb18",
   "metadata": {},
   "outputs": [],
   "source": [
    "import numpy as np\n",
    "\n",
    "# This function will calculate the sin values\n",
    "def calculate_sin(x):\n",
    "    return np.sin(x)\n",
    "\n",
    "# This function will calculate the cosine values\n",
    "def calculate_cos(x):\n",
    "    return np.cos(x)"
   ]
  },
  {
   "cell_type": "markdown",
   "id": "70fb4301-eb34-458d-9d65-b2a225070d0e",
   "metadata": {},
   "source": [
    "Generate Tables for sin(x) and cos(x)"
   ]
  },
  {
   "cell_type": "code",
   "execution_count": 17,
   "id": "a30dc1a2-e46f-4172-b9aa-740f566d7930",
   "metadata": {},
   "outputs": [],
   "source": [
    "# This function will generate all the sin and cosine values needed for our table\n",
    "def generate_sin_cos_table(start, end, number_points):\n",
    "    x_values = np.linspace(start, end, number_points)\n",
    "    sin_values = np.array([calculate_sin(x) for x in x_values])\n",
    "    cos_values = np.array([calculate_cos(x) for x in x_values])\n",
    "    return x_values, sin_values, cos_values"
   ]
  },
  {
   "cell_type": "markdown",
   "id": "06f7efc2-f69c-484e-9342-426c5e6ba3e9",
   "metadata": {},
   "source": [
    "Tabulate sin(x) and cos(x)"
   ]
  },
  {
   "cell_type": "code",
   "execution_count": 20,
   "id": "a4b9577c-0cb9-4d5b-8b95-352285c37629",
   "metadata": {},
   "outputs": [],
   "source": [
    "# Initialize our values\n",
    "start = 0\n",
    "end = 2 * np.pi\n",
    "number_points = 1000\n",
    "\n",
    "x_values, sin_values, cos_values = generate_sin_cos_table(start, end, number_points)"
   ]
  },
  {
   "cell_type": "markdown",
   "id": "32ffb2ae-73f6-4547-ae37-1466d10a7e97",
   "metadata": {},
   "source": [
    "Print the table of the first 10 Values of x, sin(x), and cos(x)"
   ]
  },
  {
   "cell_type": "code",
   "execution_count": 21,
   "id": "d9877acb-81b1-4dbd-a813-34f657a2a737",
   "metadata": {},
   "outputs": [
    {
     "name": "stdout",
     "output_type": "stream",
     "text": [
      "x\t| sin(x)\t| cos(x)\n",
      "---------------------------\n",
      "0.0000\t| 0.0000\t| 1.0000\n",
      "0.0063\t| 0.0063\t| 1.0000\n",
      "0.0126\t| 0.0126\t| 0.9999\n",
      "0.0189\t| 0.0189\t| 0.9998\n",
      "0.0252\t| 0.0252\t| 0.9997\n",
      "0.0314\t| 0.0314\t| 0.9995\n",
      "0.0377\t| 0.0377\t| 0.9993\n",
      "0.0440\t| 0.0440\t| 0.9990\n",
      "0.0503\t| 0.0503\t| 0.9987\n",
      "0.0566\t| 0.0566\t| 0.9984\n"
     ]
    }
   ],
   "source": [
    "# This cell will return our tal\n",
    "print(\"x\\t| sin(x)\\t| cos(x)\")\n",
    "print(\"-\" * 27)\n",
    "\n",
    "for i in range(10):\n",
    "    print(f\"{x_values[i]:.4f}\\t| {sin_values[i]:.4f}\\t| {cos_values[i]:.4f}\")"
   ]
  },
  {
   "cell_type": "code",
   "execution_count": null,
   "id": "733507a0-78f2-4107-b4a3-f3976439a578",
   "metadata": {},
   "outputs": [],
   "source": []
  }
 ],
 "metadata": {
  "kernelspec": {
   "display_name": "Python 3 (ipykernel)",
   "language": "python",
   "name": "python3"
  },
  "language_info": {
   "codemirror_mode": {
    "name": "ipython",
    "version": 3
   },
   "file_extension": ".py",
   "mimetype": "text/x-python",
   "name": "python",
   "nbconvert_exporter": "python",
   "pygments_lexer": "ipython3",
   "version": "3.11.5"
  }
 },
 "nbformat": 4,
 "nbformat_minor": 5
}
